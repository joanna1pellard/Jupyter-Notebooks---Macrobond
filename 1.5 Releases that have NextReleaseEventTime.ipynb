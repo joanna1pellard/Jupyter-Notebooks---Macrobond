{
 "cells": [
  {
   "cell_type": "code",
   "execution_count": null,
   "metadata": {},
   "outputs": [],
   "source": [
    "import macrobond_data_api as mda\n",
    "data_frame = mda.entity_search(entity_types=\"Release\", must_have_attributes=['NextReleaseEventTime']).to_pd_data_frame()\n",
    "data_frame[['PrimName', 'Region', 'FullDescription', 'NextReleaseEventTime', 'NextReleaseEventReferencePeriod']]"
   ]
  }
 ],
 "metadata": {
  "kernelspec": {
   "display_name": "Python 3",
   "language": "python",
   "name": "python3"
  },
  "language_info": {
   "codemirror_mode": {
    "name": "ipython",
    "version": 3
   },
   "file_extension": ".py",
   "mimetype": "text/x-python",
   "name": "python",
   "nbconvert_exporter": "python",
   "pygments_lexer": "ipython3",
   "version": "3.11.9"
  }
 },
 "nbformat": 4,
 "nbformat_minor": 2
}
