{
 "cells": [
  {
   "attachments": {},
   "cell_type": "markdown",
   "metadata": {},
   "source": [
    "# 1.4 - Macrobond Data API for Python - Entity metadata - Watchlist with Release calendar\n",
    "\n",
    "This notebook is designed to act as a template and guidline in which certain elements can be minipulated to get the desired outcome.\n",
    "\n",
    "Here we demonstrate how to leverage the metadata in Release entity to create a watchlist of series with information around next expected update date and time. **Please note that Macrobond only stores reliable release calendar from sources. Therefore, not all the Releases have calendar information**\n",
    "\n",
    "You can find a full description of all methods and parameters used in the examples in the [documentation of the API](https://macrobond.github.io/macrobond-data-api/common/api.html).\n",
    "\n",
    "*The examples use the common functions of Macrobond API. Full error handling is omitted for brevity*"
   ]
  },
  {
   "attachments": {},
   "cell_type": "markdown",
   "metadata": {},
   "source": [
    "***\n",
    "\n",
    "## Importing packages"
   ]
  },
  {
   "cell_type": "code",
   "execution_count": 13,
   "metadata": {},
   "outputs": [],
   "source": [
    "import pandas as pd\n",
    "import macrobond_data_api as mda\n",
    "import datetime\n",
    "import numpy as np\n",
    "pd.options.display.max_colwidth = 1000"
   ]
  },
  {
   "attachments": {},
   "cell_type": "markdown",
   "metadata": {},
   "source": [
    "## Build a universe with their release entity"
   ]
  },
  {
   "cell_type": "code",
   "execution_count": 7,
   "metadata": {},
   "outputs": [],
   "source": [
    "example_payload = ['hrbust0001','krflof4520','rsnaac0137','itlama0989','zabank0331','mdinea0008','czbank0739','espric3581','gblama0167','jmrate0001','clnaac0182','idbopa0001','narate0001','deprod5135','ltcons0207','qarate0003','eetour0055','rurate0001','thbank0405','bgpric0639']\n",
    "\n",
    "universe = mda.get_series(example_payload)"
   ]
  },
  {
   "cell_type": "code",
   "execution_count": 8,
   "metadata": {},
   "outputs": [],
   "source": [
    "metadata_universe = pd.DataFrame({\n",
    "    'PrimName': [x.metadata['PrimName'] for x in universe],\n",
    "    'LastModifiedTimeStamp': [x.metadata['LastModifiedTimeStamp'] for x in universe],\n",
    "    'Release': [x.metadata['Release'] if 'Release' in x.metadata else np.nan for x in universe],\n",
    "    'FullDescription': [x.metadata['FullDescription'] for x in universe],\n",
    "})\n",
    "if metadata_universe.Release.isna().any():\n",
    "    print(\"Warning: The following series do not have a release calendar, and are removed from your watchlist.\")\n",
    "    display(metadata_universe[metadata_universe.Release.isna()])\n",
    "    metadata_universe = metadata_universe[metadata_universe.Release.notna()]"
   ]
  },
  {
   "attachments": {},
   "cell_type": "markdown",
   "metadata": {},
   "source": [
    "## Get calendar metadata from underlying Releases"
   ]
  },
  {
   "cell_type": "code",
   "execution_count": null,
   "metadata": {},
   "outputs": [],
   "source": [
    "release_info = mda.get_entities(metadata_universe['Release'].drop_duplicates())\n",
    "release = pd.DataFrame({\n",
    "    'NextReleaseEventReferencePeriod': [x.metadata['NextReleaseEventReferencePeriod'] if 'NextReleaseEventReferencePeriod' in x.metadata else np.nan for x in release_info],\n",
    "    'PrimName': [x.metadata['PrimName'] for x in release_info],\n",
    "    'FullDescription': [x.metadata['FullDescription'] for x in release_info],\n",
    "    'LastReleaseEventTime': [x.metadata['LastReleaseEventTime'] if 'LastReleaseEventTime' in x.metadata else np.nan for x in release_info],\n",
    "    'NextReleaseEventTime': [x.metadata['NextReleaseEventTime'] if 'NextReleaseEventTime' in x.metadata else np.nan for x in release_info]\n",
    "})\n",
    "\n",
    "if release.NextReleaseEventTime.isnull().any():\n",
    "    print(\"The following series do not have a next release event time\")\n",
    "    display(release[release.NextReleaseEventTime.isnull()])\n",
    "    # release = release[release.NextReleaseEventTime.notna()]\n",
    "    "
   ]
  },
  {
   "cell_type": "code",
   "execution_count": 11,
   "metadata": {},
   "outputs": [],
   "source": [
    "# map the release period \n",
    "def release_period(date):\n",
    "    today = datetime.date.today()\n",
    "    tomorrow = today + datetime.timedelta(days=1)\n",
    "    day_after_tomorrow = today + datetime.timedelta(days=2)\n",
    "    next_monday = today + datetime.timedelta(days=(7 - today.weekday()))\n",
    "    next_sunday = today + datetime.timedelta(days=(7 - today.weekday() + 6))\n",
    "\n",
    "    if pd.isnull(date):\n",
    "        return 'Unkonwn'\n",
    "    elif date < tomorrow:\n",
    "        return 'Today'\n",
    "    elif tomorrow <= date < day_after_tomorrow:\n",
    "        return 'Tomorrow'\n",
    "    elif day_after_tomorrow <= date < next_monday:\n",
    "        return 'This week'\n",
    "    elif next_monday<= date <= next_sunday:\n",
    "        return 'Next week'\n",
    "    else:\n",
    "        return 'Later'\n",
    "\n",
    "release['Release Period'] = release['NextReleaseEventTime'].map(lambda x: release_period(x.date()) if not pd.isnull(x) else 'Unknown')"
   ]
  },
  {
   "attachments": {},
   "cell_type": "markdown",
   "metadata": {},
   "source": [
    "## Merge Release calendar metadata with time series metadata\n",
    "\n",
    "In the table below, the index shows the expected next update date based on the Source's release calendar. Moreover, in most cases, you can compare LastReleaseEventTime and LastModifiedTimeStamp below to check the difference between the expected release time based on Source calendar and the real time that Macrobond received the data.\n",
    "\n",
    "Please note, LastReleaseEventTime is the expected, not the real release time from the source. LastModifiedTimeStamp can be overwritten by many reasons other than timeseries update."
   ]
  },
  {
   "cell_type": "code",
   "execution_count": null,
   "metadata": {},
   "outputs": [],
   "source": [
    "calender = metadata_universe[['PrimName', 'Release', 'LastModifiedTimeStamp','FullDescription']].merge(release, left_on = 'Release', right_on = 'PrimName', how = 'right', suffixes = ('', '_release')).drop('PrimName_release', axis = 1)\n",
    "\n",
    "calender.set_index(['Release Period', 'NextReleaseEventTime'], inplace = True, drop = True)\n",
    "calender.sort_index(level = [1], ascending= [True], inplace = True)\n",
    "\n",
    "\n",
    "\n",
    "calender.rename(columns = {'FullDescription_release': 'Release_Title'}, inplace = True)\n",
    "\n",
    "calender['LastReleaseEventTime'] = calender['LastReleaseEventTime'].map(lambda x: x.strftime('%d/%m/%Y %H:%M'))\n",
    "\n",
    "NextReleaseEventTime_Mapped_index = calender.index.get_level_values(1).map(lambda x: x.strftime('%d/%m/%Y %H:%M') if not pd.isnull(x) else pd.NaT)\n",
    "calender.index = pd.MultiIndex.from_tuples(list(zip(calender.index.get_level_values(0), NextReleaseEventTime_Mapped_index)))\n",
    "\n",
    "calender = calender[['NextReleaseEventReferencePeriod', 'Release_Title', 'PrimName', 'FullDescription', 'LastModifiedTimeStamp', 'LastReleaseEventTime']]\n",
    "calender"
   ]
  }
 ],
 "metadata": {
  "kernelspec": {
   "display_name": ".venv",
   "language": "python",
   "name": "python3"
  },
  "language_info": {
   "codemirror_mode": {
    "name": "ipython",
    "version": 3
   },
   "file_extension": ".py",
   "mimetype": "text/x-python",
   "name": "python",
   "nbconvert_exporter": "python",
   "pygments_lexer": "ipython3",
   "version": "3.11.9"
  },
  "orig_nbformat": 4
 },
 "nbformat": 4,
 "nbformat_minor": 2
}
